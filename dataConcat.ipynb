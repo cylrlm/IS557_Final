{
 "cells": [
  {
   "cell_type": "code",
   "execution_count": 20,
   "id": "34f8f893",
   "metadata": {},
   "outputs": [
    {
     "name": "stdout",
     "output_type": "stream",
     "text": [
      "Training data shape: (537922, 6)\n",
      "Test data shape: (56000, 6)\n",
      "\n",
      "Class distribution in training data:\n",
      "label\n",
      "democratic    268961\n",
      "republican    268961\n",
      "Name: count, dtype: int64\n",
      "\n",
      "Class distribution in test data:\n",
      "label\n",
      "democratic    28000\n",
      "republican    28000\n",
      "Name: count, dtype: int64\n"
     ]
    }
   ],
   "source": [
    "import pandas as pd\n",
    "import numpy as np\n",
    "\n",
    "# Set the random seed for reproducibility\n",
    "np.random.seed(37)\n",
    "\n",
    "def load_data(dem_train_path, rep_train_path, dem_test_path, rep_test_path):\n",
    "    \"\"\"\n",
    "    Load and combine the democratic and republican data from parquet files\n",
    "    \"\"\"\n",
    "    # Load the four datasets\n",
    "    dem_train = pd.read_parquet(dem_train_path)\n",
    "    rep_train = pd.read_parquet(rep_train_path)\n",
    "    dem_test = pd.read_parquet(dem_test_path)\n",
    "    rep_test = pd.read_parquet(rep_test_path)\n",
    "    \n",
    "    # Combine the training data\n",
    "    train_data = pd.concat([dem_train, rep_train], ignore_index=True)\n",
    "    \n",
    "    # Combine the test data\n",
    "    test_data = pd.concat([dem_test, rep_test], ignore_index=True)\n",
    "    \n",
    "    # Display the shape of the datasets\n",
    "    print(f\"Training data shape: {train_data.shape}\")\n",
    "    print(f\"Test data shape: {test_data.shape}\")\n",
    "    \n",
    "    # Check for data balance\n",
    "    print(\"\\nClass distribution in training data:\")\n",
    "    print(train_data['label'].value_counts())\n",
    "    \n",
    "    print(\"\\nClass distribution in test data:\")\n",
    "    print(test_data['label'].value_counts())\n",
    "    \n",
    "    return train_data[['text', 'label']], test_data[['text', 'label']]\n",
    "\n",
    "train, test = load_data('democratic_only.train.en.parquet', 'republican_only.train.en.parquet', 'democratic_only.test.en.parquet', 'republican_only.test.en.parquet')\n",
    "\n"
   ]
  },
  {
   "cell_type": "code",
   "execution_count": 21,
   "id": "67dd9d2a",
   "metadata": {},
   "outputs": [
    {
     "name": "stdout",
     "output_type": "stream",
     "text": [
      "Original dataset size: 537922 rows\n",
      "Sampled dataset size: 179307 rows\n",
      "Proportion: 0.33\n"
     ]
    }
   ],
   "source": [
    "# Calculate how many rows we need (one third of the total)\n",
    "sample_size = len(train) // 3\n",
    "\n",
    "# Randomly select one third of the data\n",
    "sampled_df = train.sample(n=sample_size, random_state=37)\n",
    "\n",
    "# Verify the size of the sampled dataset\n",
    "print(f\"Original dataset size: {len(train)} rows\")\n",
    "print(f\"Sampled dataset size: {len(sampled_df)} rows\")\n",
    "print(f\"Proportion: {len(sampled_df)/len(train):.2f}\")"
   ]
  },
  {
   "cell_type": "code",
   "execution_count": 22,
   "id": "0e74a754",
   "metadata": {},
   "outputs": [],
   "source": [
    "sampled_df.to_csv(\"train.csv\", index=False)\n",
    "test.to_csv(\"test.csv\", index=False)"
   ]
  }
 ],
 "metadata": {
  "kernelspec": {
   "display_name": ".venv",
   "language": "python",
   "name": "python3"
  },
  "language_info": {
   "codemirror_mode": {
    "name": "ipython",
    "version": 3
   },
   "file_extension": ".py",
   "mimetype": "text/x-python",
   "name": "python",
   "nbconvert_exporter": "python",
   "pygments_lexer": "ipython3",
   "version": "3.13.2"
  }
 },
 "nbformat": 4,
 "nbformat_minor": 5
}
