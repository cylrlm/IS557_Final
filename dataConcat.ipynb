{
 "cells": [
  {
   "cell_type": "code",
   "execution_count": 30,
   "id": "34f8f893",
   "metadata": {},
   "outputs": [
    {
     "name": "stdout",
     "output_type": "stream",
     "text": [
      "Training data shape: (537922, 6)\n",
      "Test data shape: (56000, 6)\n",
      "\n",
      "Class distribution in training data:\n",
      "label\n",
      "democratic    268961\n",
      "republican    268961\n",
      "Name: count, dtype: int64\n",
      "\n",
      "Class distribution in test data:\n",
      "label\n",
      "democratic    28000\n",
      "republican    28000\n",
      "Name: count, dtype: int64\n"
     ]
    }
   ],
   "source": [
    "def load_data(dem_train_path, rep_train_path, dem_test_path, rep_test_path):\n",
    "    \"\"\"\n",
    "    Load and combine the democratic and republican data from parquet files\n",
    "    \"\"\"\n",
    "    # Load the four datasets\n",
    "    dem_train = pd.read_parquet(dem_train_path)\n",
    "    rep_train = pd.read_parquet(rep_train_path)\n",
    "    dem_test = pd.read_parquet(dem_test_path)\n",
    "    rep_test = pd.read_parquet(rep_test_path)\n",
    "    \n",
    "    # Combine the training data\n",
    "    train_data = pd.concat([dem_train, rep_train], ignore_index=True)\n",
    "    \n",
    "    # Combine the test data\n",
    "    test_data = pd.concat([dem_test, rep_test], ignore_index=True)\n",
    "    \n",
    "    # Display the shape of the datasets\n",
    "    print(f\"Training data shape: {train_data.shape}\")\n",
    "    print(f\"Test data shape: {test_data.shape}\")\n",
    "    \n",
    "    # Check for data balance\n",
    "    print(\"\\nClass distribution in training data:\")\n",
    "    print(train_data['label'].value_counts())\n",
    "    \n",
    "    print(\"\\nClass distribution in test data:\")\n",
    "    print(test_data['label'].value_counts())\n",
    "    \n",
    "    return train_data, test_data\n",
    "\n",
    "train, test = load_data('democratic_only.train.en.parquet', 'republican_only.train.en.parquet', 'democratic_only.test.en.parquet', 'republican_only.test.en.parquet')\n",
    "\n",
    "train.to_csv(\"train.csv\", index=False)\n",
    "test.to_csv(\"test.csv\", index=False)"
   ]
  }
 ],
 "metadata": {
  "kernelspec": {
   "display_name": ".venv",
   "language": "python",
   "name": "python3"
  },
  "language_info": {
   "codemirror_mode": {
    "name": "ipython",
    "version": 3
   },
   "file_extension": ".py",
   "mimetype": "text/x-python",
   "name": "python",
   "nbconvert_exporter": "python",
   "pygments_lexer": "ipython3",
   "version": "3.13.2"
  }
 },
 "nbformat": 4,
 "nbformat_minor": 5
}
